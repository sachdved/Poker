{
 "cells": [
  {
   "cell_type": "code",
   "execution_count": 1,
   "id": "09baafa1-594b-400c-9c8f-dd9658516c06",
   "metadata": {},
   "outputs": [],
   "source": [
    "import poker\n",
    "import numpy as np"
   ]
  },
  {
   "cell_type": "code",
   "execution_count": 126,
   "id": "4664cdd7-8804-4a13-bcbb-20af5c18db99",
   "metadata": {},
   "outputs": [],
   "source": [
    "edges = []\n",
    "for r in range(10000000):\n",
    "    num_suits = 4\n",
    "    num_ranks = 13\n",
    "    \n",
    "    deck = poker.Deck(num_suits, num_ranks)\n",
    "    \n",
    "    player_1 = poker.Player(200, np.mean)\n",
    "    \n",
    "    community = poker.CommunityCards()\n",
    "    \n",
    "    deck.deal_hole_cards([player_1], 2)\n",
    "    deck.deal_flop(community)\n",
    "    deck.deal_turn(community)\n",
    "    deck.deal_river(community)\n",
    "    \n",
    "    hand_1 = player_1.hole_cards + community.cards\n",
    "\n",
    "    edges.append(poker.hand_strength(hand_1)[0])"
   ]
  },
  {
   "cell_type": "code",
   "execution_count": 127,
   "id": "546e1426-6ab7-46ef-8852-ded47c679840",
   "metadata": {},
   "outputs": [],
   "source": [
    "from collections import defaultdict\n",
    "power = defaultdict(int)\n",
    "for val in edges:\n",
    "    power[val] += 1 / len(edges)"
   ]
  },
  {
   "cell_type": "code",
   "execution_count": 128,
   "id": "0679ec97-894a-40ba-bd22-e91f5e5f2e6b",
   "metadata": {},
   "outputs": [
    {
     "name": "stdout",
     "output_type": "stream",
     "text": [
      "0.17661990000404887\n",
      "0.43997680001162187\n",
      "0.23502120000572824\n",
      "0.048366300000360865\n",
      "0.041657000000167935\n",
      "0.03036529999987393\n",
      "0.026033499999899654\n",
      "0.0016903000000001625\n",
      "0.0002697000000000057\n"
     ]
    }
   ],
   "source": [
    "print(power[0])\n",
    "print(power[1])\n",
    "print(power[2])\n",
    "print(power[3])\n",
    "print(power[4])\n",
    "print(power[5])\n",
    "print(power[6])\n",
    "print(power[7])\n",
    "print(power[8])"
   ]
  },
  {
   "cell_type": "code",
   "execution_count": 123,
   "id": "ba2bc3ab-c2ae-486a-9b01-e50828789216",
   "metadata": {},
   "outputs": [],
   "source": [
    "hand_1[0].rank = 0\n",
    "hand_1[1].rank = 1 \n",
    "hand_1[2].rank = 10\n",
    "hand_1[3].rank = 3\n",
    "hand_1[4].rank = 13\n",
    "hand_1[5].rank = 7\n"
   ]
  },
  {
   "cell_type": "code",
   "execution_count": 124,
   "id": "1cc5e609-912d-4b4d-b371-1cb6846d1eac",
   "metadata": {},
   "outputs": [
    {
     "name": "stdout",
     "output_type": "stream",
     "text": [
      "[(2, 0), (1, 1), (2, 10), (0, 3), (3, 13), (3, 7), (1, 2)]\n"
     ]
    }
   ],
   "source": [
    "hand_look = [(card.suit, card.rank) for card in hand_1]\n",
    "print(hand_look)"
   ]
  },
  {
   "cell_type": "code",
   "execution_count": 125,
   "id": "63faa534-21ae-4ddd-a9f9-fcf0c49f2e95",
   "metadata": {},
   "outputs": [
    {
     "data": {
      "text/plain": [
       "(4, 3, 2, 1, 0, 13)"
      ]
     },
     "execution_count": 125,
     "metadata": {},
     "output_type": "execute_result"
    }
   ],
   "source": [
    "poker.hand_strength(hand_1)"
   ]
  },
  {
   "cell_type": "code",
   "execution_count": 67,
   "id": "0a675013-8c09-4c12-b453-06a690f4c3d8",
   "metadata": {},
   "outputs": [],
   "source": [
    "\n"
   ]
  },
  {
   "cell_type": "code",
   "execution_count": 68,
   "id": "9c64e591-4882-4129-8715-7e24296712c8",
   "metadata": {},
   "outputs": [
    {
     "data": {
      "text/plain": [
       "[<poker.poker.Card at 0x105236fc0>, <poker.poker.Card at 0x1052705f0>]"
      ]
     },
     "execution_count": 68,
     "metadata": {},
     "output_type": "execute_result"
    }
   ],
   "source": [
    "player_4.hole_cards"
   ]
  },
  {
   "cell_type": "code",
   "execution_count": 69,
   "id": "184bba9f-5fb9-4310-b46e-265dea57c29a",
   "metadata": {},
   "outputs": [
    {
     "data": {
      "text/plain": [
       "[<poker.poker.Card at 0x105236ab0>,\n",
       " <poker.poker.Card at 0x105270b00>,\n",
       " <poker.poker.Card at 0x105270bc0>,\n",
       " <poker.poker.Card at 0x105236210>,\n",
       " <poker.poker.Card at 0x105237680>]"
      ]
     },
     "execution_count": 69,
     "metadata": {},
     "output_type": "execute_result"
    }
   ],
   "source": [
    "community.cards"
   ]
  },
  {
   "cell_type": "code",
   "execution_count": 70,
   "id": "c1de1a12-0518-479b-97e4-2a713cb851f4",
   "metadata": {},
   "outputs": [],
   "source": [
    "\n"
   ]
  },
  {
   "cell_type": "code",
   "execution_count": 71,
   "id": "b049267b-c750-4480-8b01-d40ac9c920ed",
   "metadata": {},
   "outputs": [
    {
     "data": {
      "text/plain": [
       "(1, 6, 6, 10, 8, 7)"
      ]
     },
     "execution_count": 71,
     "metadata": {},
     "output_type": "execute_result"
    }
   ],
   "source": []
  },
  {
   "cell_type": "code",
   "execution_count": 51,
   "id": "71c3fb59-ce2d-41dd-83a2-df5ad707bec8",
   "metadata": {},
   "outputs": [
    {
     "name": "stdout",
     "output_type": "stream",
     "text": [
      "[(0, 3), (0, 12), (0, 6), (2, 7), (3, 0), (2, 1), (3, 7)]\n"
     ]
    }
   ],
   "source": [
    "hand_look = [(card.suit, card.rank) for card in hand_3]\n",
    "print(hand_look)"
   ]
  },
  {
   "cell_type": "code",
   "execution_count": null,
   "id": "759fd026-bb05-4511-a6f0-d3e04e01f13d",
   "metadata": {},
   "outputs": [],
   "source": []
  }
 ],
 "metadata": {
  "kernelspec": {
   "display_name": "Python 3 (ipykernel)",
   "language": "python",
   "name": "python3"
  },
  "language_info": {
   "codemirror_mode": {
    "name": "ipython",
    "version": 3
   },
   "file_extension": ".py",
   "mimetype": "text/x-python",
   "name": "python",
   "nbconvert_exporter": "python",
   "pygments_lexer": "ipython3",
   "version": "3.12.5"
  }
 },
 "nbformat": 4,
 "nbformat_minor": 5
}
