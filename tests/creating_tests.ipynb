{
 "cells": [
  {
   "cell_type": "code",
   "execution_count": 1,
   "id": "09baafa1-594b-400c-9c8f-dd9658516c06",
   "metadata": {},
   "outputs": [],
   "source": [
    "import poker\n",
    "import numpy as np\n",
    "from tqdm import tqdm"
   ]
  },
  {
   "cell_type": "code",
   "execution_count": 2,
   "id": "4664cdd7-8804-4a13-bcbb-20af5c18db99",
   "metadata": {},
   "outputs": [
    {
     "name": "stderr",
     "output_type": "stream",
     "text": [
      "100%|██████████████████████████████| 1000000/1000000 [00:20<00:00, 49054.41it/s]\n"
     ]
    }
   ],
   "source": [
    "edges = []\n",
    "for r in tqdm(range(1000000)):\n",
    "    num_suits = 4\n",
    "    num_ranks = 13\n",
    "    \n",
    "    deck = poker.Deck(num_suits, num_ranks)\n",
    "    \n",
    "    player_1 = poker.Player(200, np.mean)\n",
    "    \n",
    "    community = poker.CommunityCards()\n",
    "    \n",
    "    deck.deal_hole_cards([player_1], 2)\n",
    "    deck.deal_flop(community)\n",
    "    deck.deal_turn(community)\n",
    "    deck.deal_river(community)\n",
    "    \n",
    "    hand_1 = player_1.hole_cards + community.cards\n",
    "\n",
    "    edges.append(poker.hand_strength(hand_1)[0])"
   ]
  },
  {
   "cell_type": "code",
   "execution_count": 3,
   "id": "546e1426-6ab7-46ef-8852-ded47c679840",
   "metadata": {},
   "outputs": [],
   "source": [
    "from collections import defaultdict\n",
    "power = defaultdict(int)\n",
    "for val in edges:\n",
    "    power[val] += 1 / len(edges)"
   ]
  },
  {
   "cell_type": "code",
   "execution_count": 4,
   "id": "0679ec97-894a-40ba-bd22-e91f5e5f2e6b",
   "metadata": {},
   "outputs": [
    {
     "name": "stdout",
     "output_type": "stream",
     "text": [
      "0.17408000000015342\n",
      "0.4386049999951831\n",
      "0.23478200000021412\n",
      "0.04864400000002799\n",
      "0.04560000000002495\n",
      "0.030418000000009767\n",
      "0.0258520000000052\n",
      "0.0017209999999999546\n",
      "0.00029800000000000074\n"
     ]
    }
   ],
   "source": [
    "print(power[0])\n",
    "print(power[1])\n",
    "print(power[2])\n",
    "print(power[3])\n",
    "print(power[4])\n",
    "print(power[5])\n",
    "print(power[6])\n",
    "print(power[7])\n",
    "print(power[8])"
   ]
  },
  {
   "cell_type": "code",
   "execution_count": 5,
   "id": "571ae91c-4d87-419a-8434-51b3824c713d",
   "metadata": {},
   "outputs": [
    {
     "data": {
      "text/plain": [
       "[<poker.poker.Card at 0x1050acb30>,\n",
       " <poker.poker.Card at 0x1050aeba0>,\n",
       " <poker.poker.Card at 0x1050b4b30>,\n",
       " <poker.poker.Card at 0x1050ac770>,\n",
       " <poker.poker.Card at 0x1050af4a0>,\n",
       " <poker.poker.Card at 0x1050b4230>,\n",
       " <poker.poker.Card at 0x1050b4bc0>]"
      ]
     },
     "execution_count": 5,
     "metadata": {},
     "output_type": "execute_result"
    }
   ],
   "source": [
    "hand_1"
   ]
  },
  {
   "cell_type": "code",
   "execution_count": 6,
   "id": "d7d09eb6-442f-43d1-a2ca-56f8abce1405",
   "metadata": {},
   "outputs": [
    {
     "name": "stdout",
     "output_type": "stream",
     "text": [
      "[(0, 2), (0, 3), (3, 2), (2, 5), (2, 0), (3, 3), (3, 9)]\n"
     ]
    }
   ],
   "source": [
    "hand_look = [(card.suit, card.rank) for card in hand_1]\n",
    "print(hand_look)"
   ]
  },
  {
   "cell_type": "code",
   "execution_count": 7,
   "id": "f0f8726f-827e-40a5-9398-a12cd59fdc3d",
   "metadata": {},
   "outputs": [],
   "source": [
    "hand = hand_1[:3]"
   ]
  },
  {
   "cell_type": "code",
   "execution_count": 8,
   "id": "dcf30c49-91d3-491f-a939-b3de6c2fefc0",
   "metadata": {},
   "outputs": [
    {
     "data": {
      "text/plain": [
       "[<poker.poker.Card at 0x1050acb30>,\n",
       " <poker.poker.Card at 0x1050aeba0>,\n",
       " <poker.poker.Card at 0x1050b4b30>]"
      ]
     },
     "execution_count": 8,
     "metadata": {},
     "output_type": "execute_result"
    }
   ],
   "source": [
    "hand"
   ]
  },
  {
   "cell_type": "code",
   "execution_count": 9,
   "id": "3a46e951-c782-442f-a1d3-5878a9b1fb49",
   "metadata": {},
   "outputs": [],
   "source": [
    "for item in deck.deck:\n",
    "    if item == hand[0]:\n",
    "        print('found it')\n",
    "        break"
   ]
  },
  {
   "cell_type": "code",
   "execution_count": 10,
   "id": "e1e81afa-f94b-4ba9-8ebd-58bfcffd742d",
   "metadata": {
    "scrolled": true
   },
   "outputs": [],
   "source": [
    "test = poker.simulate_outcomes(hand_1[:5])"
   ]
  },
  {
   "cell_type": "code",
   "execution_count": 11,
   "id": "b32076b9-19ce-4b76-ab00-d1ebcc1359d7",
   "metadata": {},
   "outputs": [
    {
     "name": "stdout",
     "output_type": "stream",
     "text": [
      "(array([1.77150786, 2.86493987, 2.82053654, 5.67160037, 4.50046253,\n",
      "       5.50508788]), array([ 1.10422448,  2.91692706,  2.79924453, 18.61890568,  9.47060164,\n",
      "        6.38909446]), array([7, 2, 2, 2, 2, 5]))\n"
     ]
    }
   ],
   "source": [
    "print(test)"
   ]
  },
  {
   "cell_type": "code",
   "execution_count": 12,
   "id": "10b520ac-fc0d-4f5e-a4d4-7758c57254bf",
   "metadata": {},
   "outputs": [
    {
     "data": {
      "text/plain": [
       "[<poker.poker.Card at 0x1050b4b30>,\n",
       " <poker.poker.Card at 0x1050ac770>,\n",
       " <poker.poker.Card at 0x1050af4a0>,\n",
       " <poker.poker.Card at 0x1050b4230>,\n",
       " <poker.poker.Card at 0x1050b4bc0>]"
      ]
     },
     "execution_count": 12,
     "metadata": {},
     "output_type": "execute_result"
    }
   ],
   "source": [
    "community.cards"
   ]
  },
  {
   "cell_type": "code",
   "execution_count": 13,
   "id": "0b2f0180-cf93-487e-b46d-53e74fa90c88",
   "metadata": {},
   "outputs": [],
   "source": [
    "other_test = poker.simulate_opposing_outcomes(player_1.hole_cards, community)"
   ]
  },
  {
   "cell_type": "code",
   "execution_count": 14,
   "id": "6649a8cd-766a-400d-af4e-e83c07fec1ca",
   "metadata": {},
   "outputs": [
    {
     "name": "stdout",
     "output_type": "stream",
     "text": [
      "[1.77150786 2.86493987 2.82053654 5.67160037 4.50046253 5.50508788]\n",
      "[ 1.10422448  2.91692706  2.79924453 18.61890568  9.47060164  6.38909446]\n",
      "[7 2 2 2 2 5]\n"
     ]
    }
   ],
   "source": [
    "print(test[0])\n",
    "print(test[1])\n",
    "print(test[2])"
   ]
  },
  {
   "cell_type": "code",
   "execution_count": 15,
   "id": "48f20677-17c1-480d-afcb-e977734d7fb1",
   "metadata": {},
   "outputs": [
    {
     "name": "stdout",
     "output_type": "stream",
     "text": [
      "[1.02828283 7.07272727 6.25757576 7.11717172 4.94646465 3.53737374]\n",
      "[ 1.62710625 14.79349205 10.71720746  8.11163608  4.78277313  3.3631114 ]\n",
      "[ 5 12 11  9  3  2]\n"
     ]
    }
   ],
   "source": [
    "print(other_test[0])\n",
    "print(other_test[1])\n",
    "print(other_test[2])"
   ]
  },
  {
   "cell_type": "code",
   "execution_count": null,
   "id": "9b6ce4eb-dc78-4005-9a5a-8819e4c96127",
   "metadata": {},
   "outputs": [],
   "source": [
    "community.cards"
   ]
  },
  {
   "cell_type": "code",
   "execution_count": 16,
   "id": "91b0c140-d756-42cd-a6b1-bf4f25e938c2",
   "metadata": {},
   "outputs": [
    {
     "name": "stdout",
     "output_type": "stream",
     "text": [
      "[(0, 2), (0, 3), (3, 2), (2, 5), (2, 0), (3, 3), (3, 9)]\n"
     ]
    }
   ],
   "source": [
    "hand_look = [(card.suit, card.rank) for card in hand_1]\n",
    "print(hand_look)"
   ]
  },
  {
   "cell_type": "code",
   "execution_count": 11,
   "id": "948eea5f-3172-45c7-b4c4-5f783719ebba",
   "metadata": {},
   "outputs": [
    {
     "data": {
      "text/plain": [
       "array([0.412843, 1.915243, 1.726321, 1.742104, 1.379233, 1.223763])"
      ]
     },
     "execution_count": 11,
     "metadata": {},
     "output_type": "execute_result"
    }
   ],
   "source": [
    "test[0]"
   ]
  },
  {
   "cell_type": "code",
   "execution_count": 12,
   "id": "d9f8e925-b91c-40f1-800a-6036e4f2ef3f",
   "metadata": {},
   "outputs": [
    {
     "data": {
      "text/plain": [
       "array([1.13532152, 4.15948273, 3.75015158, 3.78049652, 3.08401635,\n",
       "       2.90712531])"
      ]
     },
     "execution_count": 12,
     "metadata": {},
     "output_type": "execute_result"
    }
   ],
   "source": [
    "test[1]**(1/2)"
   ]
  },
  {
   "cell_type": "code",
   "execution_count": 13,
   "id": "211bc94d-40db-48d3-badf-8e498afb1660",
   "metadata": {},
   "outputs": [
    {
     "data": {
      "text/plain": [
       "array([ 8, 12, 11, 10,  9,  8])"
      ]
     },
     "execution_count": 13,
     "metadata": {},
     "output_type": "execute_result"
    }
   ],
   "source": [
    "test[2]"
   ]
  },
  {
   "cell_type": "code",
   "execution_count": null,
   "id": "9605b14f-708e-4b03-ad56-92a3097d6e05",
   "metadata": {},
   "outputs": [],
   "source": [
    "hand_1[:3]"
   ]
  },
  {
   "cell_type": "code",
   "execution_count": 123,
   "id": "ba2bc3ab-c2ae-486a-9b01-e50828789216",
   "metadata": {},
   "outputs": [],
   "source": [
    "hand_1[0].rank = 0\n",
    "hand_1[1].rank = 1 \n",
    "hand_1[2].rank = 10\n",
    "hand_1[3].rank = 3\n",
    "hand_1[4].rank = 13\n",
    "hand_1[5].rank = 7\n"
   ]
  },
  {
   "cell_type": "code",
   "execution_count": 17,
   "id": "1cc5e609-912d-4b4d-b371-1cb6846d1eac",
   "metadata": {},
   "outputs": [
    {
     "name": "stdout",
     "output_type": "stream",
     "text": [
      "[(1, 8), (1, 0), (1, 12), (3, 12), (0, 4), (3, 4), (3, 3)]\n"
     ]
    }
   ],
   "source": [
    "hand_look = [(card.suit, card.rank) for card in hand_1]\n",
    "print(hand_look)"
   ]
  },
  {
   "cell_type": "code",
   "execution_count": 125,
   "id": "63faa534-21ae-4ddd-a9f9-fcf0c49f2e95",
   "metadata": {},
   "outputs": [
    {
     "data": {
      "text/plain": [
       "(4, 3, 2, 1, 0, 13)"
      ]
     },
     "execution_count": 125,
     "metadata": {},
     "output_type": "execute_result"
    }
   ],
   "source": [
    "poker.hand_strength(hand_1)"
   ]
  },
  {
   "cell_type": "code",
   "execution_count": 28,
   "id": "ccdf7bfa-5cb2-43a4-a879-0e7e5bf9d17e",
   "metadata": {},
   "outputs": [
    {
     "data": {
      "text/plain": [
       "np.float64(14190.0)"
      ]
     },
     "execution_count": 28,
     "metadata": {},
     "output_type": "execute_result"
    }
   ],
   "source": [
    "import scipy as sp\n",
    "sp.special.comb(45,3)"
   ]
  },
  {
   "cell_type": "code",
   "execution_count": 29,
   "id": "8b77a744-5a1d-49eb-8fc1-627ecf3a7982",
   "metadata": {},
   "outputs": [
    {
     "data": {
      "text/plain": [
       "np.float64(14190.0)"
      ]
     },
     "execution_count": 29,
     "metadata": {},
     "output_type": "execute_result"
    }
   ],
   "source": [
    "sp.special.comb(45,3)"
   ]
  },
  {
   "cell_type": "code",
   "execution_count": 31,
   "id": "ed77c090-b0a3-4a46-ab92-1d12ee79057a",
   "metadata": {},
   "outputs": [
    {
     "data": {
      "text/plain": [
       "14190"
      ]
     },
     "execution_count": 31,
     "metadata": {},
     "output_type": "execute_result"
    }
   ],
   "source": [
    "int(sp.special.comb(45,3))"
   ]
  },
  {
   "cell_type": "code",
   "execution_count": 19,
   "id": "0a675013-8c09-4c12-b453-06a690f4c3d8",
   "metadata": {},
   "outputs": [
    {
     "ename": "TypeError",
     "evalue": "object of type 'itertools.combinations' has no len()",
     "output_type": "error",
     "traceback": [
      "\u001b[0;31m---------------------------------------------------------------------------\u001b[0m",
      "\u001b[0;31mTypeError\u001b[0m                                 Traceback (most recent call last)",
      "Cell \u001b[0;32mIn[19], line 2\u001b[0m\n\u001b[1;32m      1\u001b[0m \u001b[38;5;28;01mimport\u001b[39;00m \u001b[38;5;21;01mitertools\u001b[39;00m\n\u001b[0;32m----> 2\u001b[0m \u001b[38;5;28;43mlen\u001b[39;49m\u001b[43m(\u001b[49m\u001b[43mitertools\u001b[49m\u001b[38;5;241;43m.\u001b[39;49m\u001b[43mcombinations\u001b[49m\u001b[43m(\u001b[49m\u001b[43mdeck\u001b[49m\u001b[38;5;241;43m.\u001b[39;49m\u001b[43mdeck\u001b[49m\u001b[43m,\u001b[49m\u001b[43m \u001b[49m\u001b[38;5;241;43m3\u001b[39;49m\u001b[43m)\u001b[49m\u001b[43m)\u001b[49m\n",
      "\u001b[0;31mTypeError\u001b[0m: object of type 'itertools.combinations' has no len()"
     ]
    }
   ],
   "source": [
    "import itertools\n",
    "len(itertools.combinations(deck.deck, 3))"
   ]
  },
  {
   "cell_type": "code",
   "execution_count": 68,
   "id": "9c64e591-4882-4129-8715-7e24296712c8",
   "metadata": {},
   "outputs": [
    {
     "data": {
      "text/plain": [
       "[<poker.poker.Card at 0x105236fc0>, <poker.poker.Card at 0x1052705f0>]"
      ]
     },
     "execution_count": 68,
     "metadata": {},
     "output_type": "execute_result"
    }
   ],
   "source": [
    "player_4.hole_cards"
   ]
  },
  {
   "cell_type": "code",
   "execution_count": 69,
   "id": "184bba9f-5fb9-4310-b46e-265dea57c29a",
   "metadata": {},
   "outputs": [
    {
     "data": {
      "text/plain": [
       "[<poker.poker.Card at 0x105236ab0>,\n",
       " <poker.poker.Card at 0x105270b00>,\n",
       " <poker.poker.Card at 0x105270bc0>,\n",
       " <poker.poker.Card at 0x105236210>,\n",
       " <poker.poker.Card at 0x105237680>]"
      ]
     },
     "execution_count": 69,
     "metadata": {},
     "output_type": "execute_result"
    }
   ],
   "source": [
    "community.cards"
   ]
  },
  {
   "cell_type": "code",
   "execution_count": 70,
   "id": "c1de1a12-0518-479b-97e4-2a713cb851f4",
   "metadata": {},
   "outputs": [],
   "source": [
    "\n"
   ]
  },
  {
   "cell_type": "code",
   "execution_count": 71,
   "id": "b049267b-c750-4480-8b01-d40ac9c920ed",
   "metadata": {},
   "outputs": [
    {
     "data": {
      "text/plain": [
       "(1, 6, 6, 10, 8, 7)"
      ]
     },
     "execution_count": 71,
     "metadata": {},
     "output_type": "execute_result"
    }
   ],
   "source": []
  },
  {
   "cell_type": "code",
   "execution_count": 51,
   "id": "71c3fb59-ce2d-41dd-83a2-df5ad707bec8",
   "metadata": {},
   "outputs": [
    {
     "name": "stdout",
     "output_type": "stream",
     "text": [
      "[(0, 3), (0, 12), (0, 6), (2, 7), (3, 0), (2, 1), (3, 7)]\n"
     ]
    }
   ],
   "source": [
    "hand_look = [(card.suit, card.rank) for card in hand_3]\n",
    "print(hand_look)"
   ]
  },
  {
   "cell_type": "code",
   "execution_count": 28,
   "id": "759fd026-bb05-4511-a6f0-d3e04e01f13d",
   "metadata": {},
   "outputs": [
    {
     "data": {
      "text/plain": [
       "45"
      ]
     },
     "execution_count": 28,
     "metadata": {},
     "output_type": "execute_result"
    }
   ],
   "source": [
    "len(deck.deck)"
   ]
  },
  {
   "cell_type": "code",
   "execution_count": 29,
   "id": "cc6178ff-1298-4296-b34a-2084976f47e4",
   "metadata": {},
   "outputs": [
    {
     "name": "stdout",
     "output_type": "stream",
     "text": [
      "14190\n"
     ]
    }
   ],
   "source": [
    "import itertools\n",
    "counter = 0\n",
    "for comb in itertools.combinations(deck.deck, 3):\n",
    "    counter += 1\n",
    "print(counter)"
   ]
  },
  {
   "cell_type": "code",
   "execution_count": null,
   "id": "a34c5f1b-5c54-4327-a0e5-ddf03fa3d0e5",
   "metadata": {},
   "outputs": [],
   "source": []
  }
 ],
 "metadata": {
  "kernelspec": {
   "display_name": "Python 3 (ipykernel)",
   "language": "python",
   "name": "python3"
  },
  "language_info": {
   "codemirror_mode": {
    "name": "ipython",
    "version": 3
   },
   "file_extension": ".py",
   "mimetype": "text/x-python",
   "name": "python",
   "nbconvert_exporter": "python",
   "pygments_lexer": "ipython3",
   "version": "3.12.5"
  }
 },
 "nbformat": 4,
 "nbformat_minor": 5
}
