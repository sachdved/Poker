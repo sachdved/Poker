{
 "cells": [
  {
   "cell_type": "code",
   "execution_count": 1,
   "id": "09baafa1-594b-400c-9c8f-dd9658516c06",
   "metadata": {},
   "outputs": [],
   "source": [
    "import poker\n",
    "import numpy as np\n",
    "from tqdm import tqdm"
   ]
  },
  {
   "cell_type": "code",
   "execution_count": 2,
   "id": "4664cdd7-8804-4a13-bcbb-20af5c18db99",
   "metadata": {},
   "outputs": [
    {
     "name": "stderr",
     "output_type": "stream",
     "text": [
      "100%|██████████████████████████████| 1000000/1000000 [00:59<00:00, 16674.13it/s]\n"
     ]
    }
   ],
   "source": [
    "edges = []\n",
    "for r in tqdm(range(1000000)):\n",
    "    num_suits = 4\n",
    "    num_ranks = 13\n",
    "    \n",
    "    deck = poker.Deck(num_suits, num_ranks)\n",
    "    \n",
    "    player_1 = poker.Player(200, np.mean)\n",
    "    \n",
    "    community = poker.CommunityCards()\n",
    "    \n",
    "    deck.deal_hole_cards([player_1], 2)\n",
    "    deck.deal_flop(community)\n",
    "    deck.deal_turn(community)\n",
    "    deck.deal_river(community)\n",
    "    \n",
    "    hand_1 = player_1.hole_cards + community.cards\n",
    "\n",
    "    edges.append(poker.hand_strength(hand_1)[0])"
   ]
  },
  {
   "cell_type": "code",
   "execution_count": 3,
   "id": "546e1426-6ab7-46ef-8852-ded47c679840",
   "metadata": {},
   "outputs": [],
   "source": [
    "from collections import defaultdict\n",
    "power = defaultdict(int)\n",
    "for val in edges:\n",
    "    power[val] += 1 / len(edges)"
   ]
  },
  {
   "cell_type": "code",
   "execution_count": 4,
   "id": "0679ec97-894a-40ba-bd22-e91f5e5f2e6b",
   "metadata": {},
   "outputs": [
    {
     "name": "stdout",
     "output_type": "stream",
     "text": [
      "0.17462000000015396\n",
      "0.43729799999521807\n",
      "0.23580400000021515\n",
      "0.04822600000002757\n",
      "0.046188000000025535\n",
      "0.030213000000009562\n",
      "0.025615000000004964\n",
      "0.0017089999999999556\n",
      "0.00032700000000000144\n"
     ]
    }
   ],
   "source": [
    "print(power[0])\n",
    "print(power[1])\n",
    "print(power[2])\n",
    "print(power[3])\n",
    "print(power[4])\n",
    "print(power[5])\n",
    "print(power[6])\n",
    "print(power[7])\n",
    "print(power[8])"
   ]
  },
  {
   "cell_type": "code",
   "execution_count": 5,
   "id": "571ae91c-4d87-419a-8434-51b3824c713d",
   "metadata": {},
   "outputs": [
    {
     "data": {
      "text/plain": [
       "[<poker.poker.Card at 0x1091b6630>,\n",
       " <poker.poker.Card at 0x1091a9f70>,\n",
       " <poker.poker.Card at 0x1091b6030>,\n",
       " <poker.poker.Card at 0x1091aa060>,\n",
       " <poker.poker.Card at 0x1091b64e0>,\n",
       " <poker.poker.Card at 0x1091a90d0>,\n",
       " <poker.poker.Card at 0x1091a9eb0>]"
      ]
     },
     "execution_count": 5,
     "metadata": {},
     "output_type": "execute_result"
    }
   ],
   "source": [
    "hand_1"
   ]
  },
  {
   "cell_type": "code",
   "execution_count": 6,
   "id": "d7d09eb6-442f-43d1-a2ca-56f8abce1405",
   "metadata": {},
   "outputs": [
    {
     "name": "stdout",
     "output_type": "stream",
     "text": [
      "[(3, 4), (0, 7), (1, 11), (1, 3), (2, 5), (1, 4), (1, 1)]\n"
     ]
    }
   ],
   "source": [
    "hand_look = [(card.suit, card.rank) for card in hand_1]\n",
    "print(hand_look)"
   ]
  },
  {
   "cell_type": "code",
   "execution_count": 7,
   "id": "f0f8726f-827e-40a5-9398-a12cd59fdc3d",
   "metadata": {},
   "outputs": [],
   "source": [
    "hand = hand_1[:3]"
   ]
  },
  {
   "cell_type": "code",
   "execution_count": 8,
   "id": "dcf30c49-91d3-491f-a939-b3de6c2fefc0",
   "metadata": {},
   "outputs": [
    {
     "data": {
      "text/plain": [
       "[<poker.poker.Card at 0x1091b6630>,\n",
       " <poker.poker.Card at 0x1091a9f70>,\n",
       " <poker.poker.Card at 0x1091b6030>]"
      ]
     },
     "execution_count": 8,
     "metadata": {},
     "output_type": "execute_result"
    }
   ],
   "source": [
    "hand"
   ]
  },
  {
   "cell_type": "code",
   "execution_count": 9,
   "id": "3a46e951-c782-442f-a1d3-5878a9b1fb49",
   "metadata": {},
   "outputs": [],
   "source": [
    "for item in deck.deck:\n",
    "    if item == hand[0]:\n",
    "        print('found it')\n",
    "        break"
   ]
  },
  {
   "cell_type": "code",
   "execution_count": 23,
   "id": "e1e81afa-f94b-4ba9-8ebd-58bfcffd742d",
   "metadata": {
    "scrolled": true
   },
   "outputs": [
    {
     "name": "stderr",
     "output_type": "stream",
     "text": [
      "100%|███████████████████████████████| 1000000/1000000 [02:14<00:00, 7422.98it/s]\n"
     ]
    }
   ],
   "source": [
    "test = poker.simulate_outcomes(hand_1[:5])"
   ]
  },
  {
   "cell_type": "code",
   "execution_count": 16,
   "id": "48f20677-17c1-480d-afcb-e977734d7fb1",
   "metadata": {},
   "outputs": [
    {
     "data": {
      "text/plain": [
       "[<poker.poker.Card at 0x1091b6630>,\n",
       " <poker.poker.Card at 0x1091a9f70>,\n",
       " <poker.poker.Card at 0x1091b6030>,\n",
       " <poker.poker.Card at 0x1091aa060>]"
      ]
     },
     "execution_count": 16,
     "metadata": {},
     "output_type": "execute_result"
    }
   ],
   "source": [
    "hand_1[:4]"
   ]
  },
  {
   "cell_type": "code",
   "execution_count": 22,
   "id": "91b0c140-d756-42cd-a6b1-bf4f25e938c2",
   "metadata": {},
   "outputs": [
    {
     "name": "stdout",
     "output_type": "stream",
     "text": [
      "[(3, 4), (0, 7), (1, 11), (1, 3), (2, 5)]\n"
     ]
    }
   ],
   "source": [
    "hand_look = [(card.suit, card.rank) for card in hand_1[:5]]\n",
    "print(hand_look)"
   ]
  },
  {
   "cell_type": "code",
   "execution_count": 26,
   "id": "948eea5f-3172-45c7-b4c4-5f783719ebba",
   "metadata": {},
   "outputs": [
    {
     "data": {
      "text/plain": [
       "array([1.35142 , 7.894145, 7.181182, 8.02772 , 6.117267, 4.92064 ])"
      ]
     },
     "execution_count": 26,
     "metadata": {},
     "output_type": "execute_result"
    }
   ],
   "source": [
    "test[0]"
   ]
  },
  {
   "cell_type": "code",
   "execution_count": 25,
   "id": "d9f8e925-b91c-40f1-800a-6036e4f2ef3f",
   "metadata": {},
   "outputs": [
    {
     "data": {
      "text/plain": [
       "array([1.38694481, 3.15307464, 2.78251196, 2.75346058, 2.13691507,\n",
       "       1.92236565])"
      ]
     },
     "execution_count": 25,
     "metadata": {},
     "output_type": "execute_result"
    }
   ],
   "source": [
    "test[1]**(1/2)"
   ]
  },
  {
   "cell_type": "code",
   "execution_count": 123,
   "id": "ba2bc3ab-c2ae-486a-9b01-e50828789216",
   "metadata": {},
   "outputs": [],
   "source": [
    "hand_1[0].rank = 0\n",
    "hand_1[1].rank = 1 \n",
    "hand_1[2].rank = 10\n",
    "hand_1[3].rank = 3\n",
    "hand_1[4].rank = 13\n",
    "hand_1[5].rank = 7\n"
   ]
  },
  {
   "cell_type": "code",
   "execution_count": 124,
   "id": "1cc5e609-912d-4b4d-b371-1cb6846d1eac",
   "metadata": {},
   "outputs": [
    {
     "name": "stdout",
     "output_type": "stream",
     "text": [
      "[(2, 0), (1, 1), (2, 10), (0, 3), (3, 13), (3, 7), (1, 2)]\n"
     ]
    }
   ],
   "source": [
    "hand_look = [(card.suit, card.rank) for card in hand_1]\n",
    "print(hand_look)"
   ]
  },
  {
   "cell_type": "code",
   "execution_count": 125,
   "id": "63faa534-21ae-4ddd-a9f9-fcf0c49f2e95",
   "metadata": {},
   "outputs": [
    {
     "data": {
      "text/plain": [
       "(4, 3, 2, 1, 0, 13)"
      ]
     },
     "execution_count": 125,
     "metadata": {},
     "output_type": "execute_result"
    }
   ],
   "source": [
    "poker.hand_strength(hand_1)"
   ]
  },
  {
   "cell_type": "code",
   "execution_count": 67,
   "id": "0a675013-8c09-4c12-b453-06a690f4c3d8",
   "metadata": {},
   "outputs": [],
   "source": [
    "\n"
   ]
  },
  {
   "cell_type": "code",
   "execution_count": 68,
   "id": "9c64e591-4882-4129-8715-7e24296712c8",
   "metadata": {},
   "outputs": [
    {
     "data": {
      "text/plain": [
       "[<poker.poker.Card at 0x105236fc0>, <poker.poker.Card at 0x1052705f0>]"
      ]
     },
     "execution_count": 68,
     "metadata": {},
     "output_type": "execute_result"
    }
   ],
   "source": [
    "player_4.hole_cards"
   ]
  },
  {
   "cell_type": "code",
   "execution_count": 69,
   "id": "184bba9f-5fb9-4310-b46e-265dea57c29a",
   "metadata": {},
   "outputs": [
    {
     "data": {
      "text/plain": [
       "[<poker.poker.Card at 0x105236ab0>,\n",
       " <poker.poker.Card at 0x105270b00>,\n",
       " <poker.poker.Card at 0x105270bc0>,\n",
       " <poker.poker.Card at 0x105236210>,\n",
       " <poker.poker.Card at 0x105237680>]"
      ]
     },
     "execution_count": 69,
     "metadata": {},
     "output_type": "execute_result"
    }
   ],
   "source": [
    "community.cards"
   ]
  },
  {
   "cell_type": "code",
   "execution_count": 70,
   "id": "c1de1a12-0518-479b-97e4-2a713cb851f4",
   "metadata": {},
   "outputs": [],
   "source": [
    "\n"
   ]
  },
  {
   "cell_type": "code",
   "execution_count": 71,
   "id": "b049267b-c750-4480-8b01-d40ac9c920ed",
   "metadata": {},
   "outputs": [
    {
     "data": {
      "text/plain": [
       "(1, 6, 6, 10, 8, 7)"
      ]
     },
     "execution_count": 71,
     "metadata": {},
     "output_type": "execute_result"
    }
   ],
   "source": []
  },
  {
   "cell_type": "code",
   "execution_count": 51,
   "id": "71c3fb59-ce2d-41dd-83a2-df5ad707bec8",
   "metadata": {},
   "outputs": [
    {
     "name": "stdout",
     "output_type": "stream",
     "text": [
      "[(0, 3), (0, 12), (0, 6), (2, 7), (3, 0), (2, 1), (3, 7)]\n"
     ]
    }
   ],
   "source": [
    "hand_look = [(card.suit, card.rank) for card in hand_3]\n",
    "print(hand_look)"
   ]
  },
  {
   "cell_type": "code",
   "execution_count": null,
   "id": "759fd026-bb05-4511-a6f0-d3e04e01f13d",
   "metadata": {},
   "outputs": [],
   "source": []
  }
 ],
 "metadata": {
  "kernelspec": {
   "display_name": "Python 3 (ipykernel)",
   "language": "python",
   "name": "python3"
  },
  "language_info": {
   "codemirror_mode": {
    "name": "ipython",
    "version": 3
   },
   "file_extension": ".py",
   "mimetype": "text/x-python",
   "name": "python",
   "nbconvert_exporter": "python",
   "pygments_lexer": "ipython3",
   "version": "3.12.5"
  }
 },
 "nbformat": 4,
 "nbformat_minor": 5
}
